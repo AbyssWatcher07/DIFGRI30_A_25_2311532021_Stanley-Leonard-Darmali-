{
  "metadata": {
    "kernelspec": {
      "display_name": "Python 3",
      "language": "python",
      "name": "python3"
    },
    "language_info": {
      "name": "python",
      "version": "3.10.12",
      "mimetype": "text/x-python",
      "codemirror_mode": {
        "name": "ipython",
        "version": 3
      },
      "pygments_lexer": "ipython3",
      "nbconvert_exporter": "python",
      "file_extension": ".py"
    },
    "learntools_metadata": {
      "lesson_index": 1,
      "type": "exercise"
    },
    "kaggle": {
      "accelerator": "none",
      "dataSources": [],
      "isInternetEnabled": false,
      "language": "python",
      "sourceType": "notebook",
      "isGpuEnabled": false
    },
    "colab": {
      "name": "Exercise: Functions and Getting Help",
      "provenance": [],
      "include_colab_link": true
    }
  },
  "nbformat_minor": 0,
  "nbformat": 4,
  "cells": [
    {
      "cell_type": "markdown",
      "metadata": {
        "id": "view-in-github",
        "colab_type": "text"
      },
      "source": [
        "<a href=\"https://colab.research.google.com/github/AbyssWatcher07/DIFGRI30_A_25_2311532021_Stanley-Leonard-Darmali-/blob/main/Tugas%20ML/Exercise_Functions_and_Getting_Help.ipynb\" target=\"_parent\"><img src=\"https://colab.research.google.com/assets/colab-badge.svg\" alt=\"Open In Colab\"/></a>"
      ]
    },
    {
      "cell_type": "markdown",
      "source": [
        "**This notebook is an exercise in the [Python](https://www.kaggle.com/learn/python) course.  You can reference the tutorial at [this link](https://www.kaggle.com/colinmorris/functions-and-getting-help).**\n",
        "\n",
        "---\n"
      ],
      "metadata": {
        "id": "0T-SItOhGYVH"
      }
    },
    {
      "cell_type": "markdown",
      "source": [
        "Functions are powerful. Try writing some yourself.\n",
        "\n",
        "As before, don't forget to run the setup code below before jumping into question 1."
      ],
      "metadata": {
        "id": "_OBe8Fp6GYVI"
      }
    },
    {
      "cell_type": "code",
      "source": [
        "# SETUP. You don't need to worry for now about what this code does or how it works.\n",
        "from learntools.core import binder; binder.bind(globals())\n",
        "from learntools.python.ex2 import *\n",
        "print('Setup complete.')"
      ],
      "metadata": {
        "_kg_hide-input": true,
        "_kg_hide-output": true,
        "trusted": true,
        "execution": {
          "iopub.status.busy": "2025-02-26T04:11:57.582591Z",
          "iopub.execute_input": "2025-02-26T04:11:57.58293Z",
          "iopub.status.idle": "2025-02-26T04:11:57.60433Z",
          "shell.execute_reply.started": "2025-02-26T04:11:57.582901Z",
          "shell.execute_reply": "2025-02-26T04:11:57.603485Z"
        },
        "id": "SMSD1LhhGYVJ",
        "outputId": "98f266fa-a74f-4c8f-ac22-acbf1413b5fd"
      },
      "outputs": [
        {
          "name": "stdout",
          "text": "Setup complete.\n",
          "output_type": "stream"
        }
      ],
      "execution_count": null
    },
    {
      "cell_type": "markdown",
      "source": [
        "# 1.\n",
        "\n",
        "Complete the body of the following function according to its docstring.\n",
        "\n",
        "HINT: Python has a built-in function `round`."
      ],
      "metadata": {
        "id": "SXBIvJZAGYVK"
      }
    },
    {
      "cell_type": "code",
      "source": [
        "def round_to_two_places(num):\n",
        "    \"\"\"Return the given number rounded to two decimal places.\n",
        "\n",
        "    >>> round_to_two_places(3.14159)\n",
        "    3.14\n",
        "    \"\"\"\n",
        "    # Replace this body with your own code.\n",
        "    # (\"pass\" is a keyword that does literally nothing. We used it as a placeholder\n",
        "    # because after we begin a code block, Python requires at least one line of code)\n",
        "    return round(num, 2)\n",
        "\n",
        "# Check your answer\n",
        "q1.check()"
      ],
      "metadata": {
        "trusted": true,
        "execution": {
          "iopub.status.busy": "2025-02-23T15:00:29.283732Z",
          "iopub.execute_input": "2025-02-23T15:00:29.28412Z",
          "iopub.status.idle": "2025-02-23T15:00:29.294264Z",
          "shell.execute_reply.started": "2025-02-23T15:00:29.284091Z",
          "shell.execute_reply": "2025-02-23T15:00:29.292991Z"
        },
        "id": "lmDfARopGYVK",
        "outputId": "5270a7ed-e08c-4a73-ee85-47b25842c26b"
      },
      "outputs": [
        {
          "output_type": "display_data",
          "data": {
            "text/plain": "<IPython.core.display.Javascript object>",
            "application/javascript": "parent.postMessage({\"jupyterEvent\": \"custom.exercise_interaction\", \"data\": {\"outcomeType\": 1, \"valueTowardsCompletion\": 0.16666666666666666, \"interactionType\": 1, \"questionType\": 2, \"questionId\": \"1_RoundFunctionProblem\", \"learnToolsVersion\": \"0.3.4\", \"failureMessage\": \"\", \"exceptionClass\": \"\", \"trace\": \"\"}}, \"*\")"
          },
          "metadata": {}
        },
        {
          "output_type": "display_data",
          "data": {
            "text/plain": "Correct",
            "text/markdown": "<span style=\"color:#33cc33\">Correct</span>"
          },
          "metadata": {}
        }
      ],
      "execution_count": null
    },
    {
      "cell_type": "code",
      "source": [
        "# Uncomment the following for a hint\n",
        "#q1.hint()\n",
        "# Or uncomment the following to peek at the solution\n",
        "#q1.solution()"
      ],
      "metadata": {
        "trusted": true,
        "execution": {
          "iopub.status.busy": "2025-02-23T15:00:35.98715Z",
          "iopub.execute_input": "2025-02-23T15:00:35.987565Z",
          "iopub.status.idle": "2025-02-23T15:00:35.992016Z",
          "shell.execute_reply.started": "2025-02-23T15:00:35.987538Z",
          "shell.execute_reply": "2025-02-23T15:00:35.990699Z"
        },
        "id": "0tNC7UG0GYVL"
      },
      "outputs": [],
      "execution_count": null
    },
    {
      "cell_type": "markdown",
      "source": [
        "# 2.\n",
        "The help for `round` says that `ndigits` (the second argument) may be negative.\n",
        "What do you think will happen when it is? Try some examples in the following cell."
      ],
      "metadata": {
        "id": "7liMuyEmGYVL"
      }
    },
    {
      "cell_type": "code",
      "source": [
        "# Put your test code here\n",
        "round(314, -2)"
      ],
      "metadata": {
        "trusted": true,
        "execution": {
          "iopub.status.busy": "2025-02-23T15:10:38.473463Z",
          "iopub.execute_input": "2025-02-23T15:10:38.473892Z",
          "iopub.status.idle": "2025-02-23T15:10:38.480945Z",
          "shell.execute_reply.started": "2025-02-23T15:10:38.473862Z",
          "shell.execute_reply": "2025-02-23T15:10:38.479551Z"
        },
        "id": "bXq2KHpdGYVL",
        "outputId": "027a500a-cfc0-4488-def5-054a51ff64ac"
      },
      "outputs": [
        {
          "execution_count": 13,
          "output_type": "execute_result",
          "data": {
            "text/plain": "300"
          },
          "metadata": {}
        }
      ],
      "execution_count": null
    },
    {
      "cell_type": "markdown",
      "source": [
        "Can you think of a case where this would be useful?  Once you're ready, run the code cell below to see the answer and to receive credit for completing the problem."
      ],
      "metadata": {
        "id": "ikJZ3pw2GYVM"
      }
    },
    {
      "cell_type": "code",
      "source": [
        "# Check your answer (Run this code cell to receive credit!)\n",
        "#q2.solution()"
      ],
      "metadata": {
        "trusted": true,
        "execution": {
          "iopub.status.busy": "2025-02-26T04:11:57.577549Z",
          "iopub.execute_input": "2025-02-26T04:11:57.57773Z",
          "iopub.status.idle": "2025-02-26T04:11:57.581845Z",
          "shell.execute_reply.started": "2025-02-26T04:11:57.577712Z",
          "shell.execute_reply": "2025-02-26T04:11:57.580606Z"
        },
        "id": "wZRlobqdGYVM"
      },
      "outputs": [],
      "execution_count": null
    },
    {
      "cell_type": "markdown",
      "source": [
        "# 3.\n",
        "\n",
        "In the previous exercise, the candy-sharing friends Alice, Bob and Carol tried to split candies evenly. For the sake of their friendship, any candies left over would be smashed. For example, if they collectively bring home 91 candies, they'll take 30 each and smash 1.\n",
        "\n",
        "Below is a simple function that will calculate the number of candies to smash for *any* number of total candies.\n",
        "\n",
        "Modify it so that it optionally takes a second argument representing the number of friends the candies are being split between. If no second argument is provided, it should assume 3 friends, as before.\n",
        "\n",
        "Update the docstring to reflect this new behaviour."
      ],
      "metadata": {
        "id": "jKMHrB8jGYVM"
      }
    },
    {
      "cell_type": "code",
      "source": [
        "def to_smash(total_candies,x=3):\n",
        "    \"\"\"Return the number of leftover candies that must be smashed after distributing\n",
        "    the given number of candies evenly between x amount of friends.\n",
        "\n",
        "    >>> to_smash(91)\n",
        "    1\n",
        "    \"\"\"\n",
        "    return total_candies % x\n",
        "\n",
        "# Check your answer\n",
        "q3.check()"
      ],
      "metadata": {
        "trusted": true,
        "execution": {
          "iopub.status.busy": "2025-02-25T06:51:14.662109Z",
          "iopub.execute_input": "2025-02-25T06:51:14.662642Z",
          "iopub.status.idle": "2025-02-25T06:51:14.673898Z",
          "shell.execute_reply.started": "2025-02-25T06:51:14.662589Z",
          "shell.execute_reply": "2025-02-25T06:51:14.672745Z"
        },
        "id": "y98S5t7IGYVM",
        "outputId": "e4a4ea25-a82e-4b5c-8164-a90201cca978"
      },
      "outputs": [
        {
          "output_type": "display_data",
          "data": {
            "text/plain": "<IPython.core.display.Javascript object>",
            "application/javascript": "parent.postMessage({\"jupyterEvent\": \"custom.exercise_interaction\", \"data\": {\"outcomeType\": 1, \"valueTowardsCompletion\": 0.16666666666666666, \"interactionType\": 1, \"questionType\": 2, \"questionId\": \"3_CandySmashingFunctionProblem\", \"learnToolsVersion\": \"0.3.4\", \"failureMessage\": \"\", \"exceptionClass\": \"\", \"trace\": \"\"}}, \"*\")"
          },
          "metadata": {}
        },
        {
          "output_type": "display_data",
          "data": {
            "text/plain": "Correct",
            "text/markdown": "<span style=\"color:#33cc33\">Correct</span>"
          },
          "metadata": {}
        }
      ],
      "execution_count": null
    },
    {
      "cell_type": "code",
      "source": [
        "#q3.hint()"
      ],
      "metadata": {
        "id": "ouZlYeKoGYVN"
      },
      "outputs": [],
      "execution_count": null
    },
    {
      "cell_type": "code",
      "source": [
        "#q3.solution()"
      ],
      "metadata": {
        "trusted": true,
        "execution": {
          "iopub.status.busy": "2025-02-23T18:01:44.234589Z",
          "iopub.execute_input": "2025-02-23T18:01:44.234946Z",
          "iopub.status.idle": "2025-02-23T18:01:44.239204Z",
          "shell.execute_reply.started": "2025-02-23T18:01:44.234918Z",
          "shell.execute_reply": "2025-02-23T18:01:44.237876Z"
        },
        "id": "nAK9G0ikGYVN"
      },
      "outputs": [],
      "execution_count": null
    },
    {
      "cell_type": "markdown",
      "source": [
        "# 4. (Optional)\n",
        "\n",
        "It may not be fun, but reading and understanding error messages will be an important part of your Python career.\n",
        "\n",
        "Each code cell below contains some commented buggy code. For each cell...\n",
        "\n",
        "1. Read the code and predict what you think will happen when it's run.\n",
        "2. Then uncomment the code and run it to see what happens. (**Tip**: In the kernel editor, you can highlight several lines and press `ctrl`+`/` to toggle commenting.)\n",
        "3. Fix the code (so that it accomplishes its intended purpose without throwing an exception)\n",
        "\n",
        "<!-- TODO: should this be autochecked? Delta is probably pretty small. -->"
      ],
      "metadata": {
        "id": "yU2o0M10GYVN"
      }
    },
    {
      "cell_type": "code",
      "source": [
        "round(9.9999, 2)"
      ],
      "metadata": {
        "trusted": true,
        "execution": {
          "iopub.status.busy": "2025-02-23T18:20:31.671697Z",
          "iopub.execute_input": "2025-02-23T18:20:31.672141Z",
          "iopub.status.idle": "2025-02-23T18:20:31.677814Z",
          "shell.execute_reply.started": "2025-02-23T18:20:31.672106Z",
          "shell.execute_reply": "2025-02-23T18:20:31.676699Z"
        },
        "id": "PA7oUHThGYVN",
        "outputId": "a9404ecd-3198-4e13-ede3-f5c6da9dc0e4"
      },
      "outputs": [
        {
          "execution_count": 17,
          "output_type": "execute_result",
          "data": {
            "text/plain": "10.0"
          },
          "metadata": {}
        }
      ],
      "execution_count": null
    },
    {
      "cell_type": "code",
      "source": [
        "x = -10\n",
        "y = 5\n",
        "# #Which of the two variables above has the smallest absolute value?\n",
        "abs(min(x, y))"
      ],
      "metadata": {
        "trusted": true,
        "execution": {
          "iopub.status.busy": "2025-02-23T18:19:47.168401Z",
          "iopub.execute_input": "2025-02-23T18:19:47.168731Z",
          "iopub.status.idle": "2025-02-23T18:19:47.174888Z",
          "shell.execute_reply.started": "2025-02-23T18:19:47.168707Z",
          "shell.execute_reply": "2025-02-23T18:19:47.173918Z"
        },
        "id": "qN84Vze7GYVN",
        "outputId": "105a0b6d-dad4-4d8d-f99a-261127208088"
      },
      "outputs": [
        {
          "execution_count": 12,
          "output_type": "execute_result",
          "data": {
            "text/plain": "10"
          },
          "metadata": {}
        }
      ],
      "execution_count": null
    },
    {
      "cell_type": "code",
      "source": [
        "def f(x):\n",
        "    y = abs(x)\n",
        "    return y\n",
        "\n",
        "print(f(5))"
      ],
      "metadata": {
        "trusted": true,
        "execution": {
          "iopub.status.busy": "2025-02-23T18:20:10.228297Z",
          "iopub.execute_input": "2025-02-23T18:20:10.228669Z",
          "iopub.status.idle": "2025-02-23T18:20:10.234011Z",
          "shell.execute_reply.started": "2025-02-23T18:20:10.228637Z",
          "shell.execute_reply": "2025-02-23T18:20:10.232925Z"
        },
        "id": "3kzHyyW4GYVO",
        "outputId": "b42fd217-e895-418d-e38a-beb9f04674ce"
      },
      "outputs": [
        {
          "name": "stdout",
          "text": "5\n",
          "output_type": "stream"
        }
      ],
      "execution_count": null
    },
    {
      "cell_type": "markdown",
      "source": [
        "# Keep Going\n",
        "\n",
        "Nice job with the code. Next up, you'll learn about *conditionals*, which you'll need to **[write interesting programs](https://www.kaggle.com/colinmorris/booleans-and-conditionals)**."
      ],
      "metadata": {
        "id": "wd3643JxGYVO"
      }
    },
    {
      "cell_type": "markdown",
      "source": [
        "---\n",
        "\n",
        "\n",
        "\n",
        "\n",
        "*Have questions or comments? Visit the [course discussion forum](https://www.kaggle.com/learn/python/discussion) to chat with other learners.*"
      ],
      "metadata": {
        "id": "zgo-oB9_GYVO"
      }
    }
  ]
}